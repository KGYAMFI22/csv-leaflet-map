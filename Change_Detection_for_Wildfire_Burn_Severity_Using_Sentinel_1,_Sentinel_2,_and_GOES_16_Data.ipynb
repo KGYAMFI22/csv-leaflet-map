{
  "nbformat": 4,
  "nbformat_minor": 0,
  "metadata": {
    "colab": {
      "provenance": [],
      "authorship_tag": "ABX9TyM3QxGyLjUg6UPqRz2GYHi9",
      "include_colab_link": true
    },
    "kernelspec": {
      "name": "python3",
      "display_name": "Python 3"
    },
    "language_info": {
      "name": "python"
    }
  },
  "cells": [
    {
      "cell_type": "markdown",
      "metadata": {
        "id": "view-in-github",
        "colab_type": "text"
      },
      "source": [
        "<a href=\"https://colab.research.google.com/github/KGYAMFI22/csv-leaflet-map/blob/main/Change_Detection_for_Wildfire_Burn_Severity_Using_Sentinel_1%2C_Sentinel_2%2C_and_GOES_16_Data.ipynb\" target=\"_parent\"><img src=\"https://colab.research.google.com/assets/colab-badge.svg\" alt=\"Open In Colab\"/></a>"
      ]
    },
    {
      "cell_type": "markdown",
      "source": [
        "\n",
        "\n",
        "🔬 Dataset Description:\n",
        "We utilize Sentinel-1, Sentinel-2, and GOES-16 satellite imagery for wildfire analysis.\n",
        "\n",
        "Dataset\tSource\tUsage\n",
        "Sentinel-2 (Optical)\tCopernicus Hub\tCompute NBR & dNBR for burn severity\n",
        "Sentinel-1 (SAR)\tCopernicus Hub\tAnalyze backscatter changes to detect burned areas\n",
        "GOES-16\tNOAA\tReal-time fire monitoring\n",
        "🔥 Study Area: California Wildfire (June–Sept 2023)\n",
        "\n",
        "\n"
      ],
      "metadata": {
        "id": "SghqG3hriHF0"
      }
    },
    {
      "cell_type": "markdown",
      "source": [
        "Step 1: Authenticate Google Earth Engine"
      ],
      "metadata": {
        "id": "cROjPITNiSpO"
      }
    },
    {
      "cell_type": "code",
      "source": [
        "# Install necessary libraries\n",
        "!pip install earthengine-api geemap folium --quiet\n",
        "\n",
        "import ee\n",
        "import geemap\n",
        "import folium"
      ],
      "metadata": {
        "colab": {
          "base_uri": "https://localhost:8080/",
          "height": 34
        },
        "id": "1tZTK9ykjvFC",
        "outputId": "1ec2dade-1a6a-42b3-9d7b-9b282922744d"
      },
      "execution_count": null,
      "outputs": [
        {
          "output_type": "stream",
          "name": "stdout",
          "text": [
            "\u001b[?25l   \u001b[90m━━━━━━━━━━━━━━━━━━━━━━━━━━━━━━━━━━━━━━━━\u001b[0m \u001b[32m0.0/1.6 MB\u001b[0m \u001b[31m?\u001b[0m eta \u001b[36m-:--:--\u001b[0m\r\u001b[2K   \u001b[91m━━━━━━━\u001b[0m\u001b[91m╸\u001b[0m\u001b[90m━━━━━━━━━━━━━━━━━━━━━━━━━━━━━━━━\u001b[0m \u001b[32m0.3/1.6 MB\u001b[0m \u001b[31m9.1 MB/s\u001b[0m eta \u001b[36m0:00:01\u001b[0m\r\u001b[2K   \u001b[91m━━━━━━━━━━━━━━━━━━━━━━━━━━━━━━━━━━━━━━━\u001b[0m\u001b[91m╸\u001b[0m \u001b[32m1.6/1.6 MB\u001b[0m \u001b[31m22.3 MB/s\u001b[0m eta \u001b[36m0:00:01\u001b[0m\r\u001b[2K   \u001b[91m━━━━━━━━━━━━━━━━━━━━━━━━━━━━━━━━━━━━━━━\u001b[0m\u001b[91m╸\u001b[0m \u001b[32m1.6/1.6 MB\u001b[0m \u001b[31m22.3 MB/s\u001b[0m eta \u001b[36m0:00:01\u001b[0m\r\u001b[2K   \u001b[90m━━━━━━━━━━━━━━━━━━━━━━━━━━━━━━━━━━━━━━━━\u001b[0m \u001b[32m1.6/1.6 MB\u001b[0m \u001b[31m13.5 MB/s\u001b[0m eta \u001b[36m0:00:00\u001b[0m\n",
            "\u001b[?25h"
          ]
        }
      ]
    },
    {
      "cell_type": "code",
      "source": [
        "# Authenticate with Google Earth Engine\n",
        "ee.Authenticate()\n",
        "# Initialize Earth Engine with your project ID\n",
        "ee.Initialize(project='ee-kgyamfi')"
      ],
      "metadata": {
        "colab": {
          "base_uri": "https://localhost:8080/",
          "height": 17
        },
        "id": "ScEcjzW3j9CT",
        "outputId": "a6a758c8-a688-4f25-b731-99c67dac752a"
      },
      "execution_count": null,
      "outputs": [
        {
          "output_type": "display_data",
          "data": {
            "text/plain": [
              "<IPython.core.display.HTML object>"
            ],
            "text/html": [
              "\n",
              "            <style>\n",
              "                .geemap-dark {\n",
              "                    --jp-widgets-color: white;\n",
              "                    --jp-widgets-label-color: white;\n",
              "                    --jp-ui-font-color1: white;\n",
              "                    --jp-layout-color2: #454545;\n",
              "                    background-color: #383838;\n",
              "                }\n",
              "\n",
              "                .geemap-dark .jupyter-button {\n",
              "                    --jp-layout-color3: #383838;\n",
              "                }\n",
              "\n",
              "                .geemap-colab {\n",
              "                    background-color: var(--colab-primary-surface-color, white);\n",
              "                }\n",
              "\n",
              "                .geemap-colab .jupyter-button {\n",
              "                    --jp-layout-color3: var(--colab-primary-surface-color, white);\n",
              "                }\n",
              "            </style>\n",
              "            "
            ]
          },
          "metadata": {}
        }
      ]
    },
    {
      "cell_type": "markdown",
      "source": [
        "Step 2: Load Pre- and Post-Fire Satellite Imagery"
      ],
      "metadata": {
        "id": "9PC11yPsijNK"
      }
    },
    {
      "cell_type": "code",
      "source": [
        "region = ee.Geometry.Point([-120.74, 38.79])  # Example wildfire site\n",
        "\n",
        "# Load Sentinel-2 data\n",
        "sentinel2 = ee.ImageCollection(\"COPERNICUS/S2_SR\") \\\n",
        "    .filterBounds(region).filterDate('2023-06-01', '2023-09-01') \\\n",
        "    .filter(ee.Filter.lt('CLOUDY_PIXEL_PERCENTAGE', 10)).median()\n",
        "\n",
        "# Load Sentinel-1 SAR data\n",
        "sentinel1 = ee.ImageCollection(\"COPERNICUS/S1_GRD\") \\\n",
        "    .filterBounds(region).filterDate('2023-06-01', '2023-09-01') \\\n",
        "    .filter(ee.Filter.eq('instrumentMode', 'IW')).median()\n"
      ],
      "metadata": {
        "id": "04_PN3OzkKNB"
      },
      "execution_count": null,
      "outputs": []
    },
    {
      "cell_type": "markdown",
      "source": [
        "Step 3: Compute Burn Indices (NBR & dNBR)"
      ],
      "metadata": {
        "id": "HShxuKr_ituE"
      }
    },
    {
      "cell_type": "code",
      "source": [
        "def calc_nbr(image):\n",
        "    nir = image.select('B8')\n",
        "    swir = image.select('B12')\n",
        "    nbr = nir.subtract(swir).divide(nir.add(swir)).rename('NBR')\n",
        "    return image.addBands(nbr)\n",
        "\n",
        "# Compute pre- and post-fire NBR\n",
        "pre_fire_nbr = calc_nbr(sentinel2).select('NBR')\n",
        "post_fire_nbr = calc_nbr(sentinel2).select('NBR')\n",
        "\n",
        "# Compute dNBR (change in burn index)\n",
        "dNBR = pre_fire_nbr.subtract(post_fire_nbr).rename('dNBR')\n",
        "\n",
        "# Burn severity classification\n",
        "severity = dNBR.expression(\n",
        "    \"(b(0) > 0.66) ? 4 : (b(0) > 0.44) ? 3 : (b(0) > 0.22) ? 2 : (b(0) > 0.1) ? 1 : 0\"\n",
        ").rename('BurnSeverity')\n"
      ],
      "metadata": {
        "id": "QvaMcUdYkVkH"
      },
      "execution_count": null,
      "outputs": []
    },
    {
      "cell_type": "markdown",
      "source": [
        "Step 4: Detect Burned Areas with SAR Change Detection"
      ],
      "metadata": {
        "id": "CZwHXAFni1hD"
      }
    },
    {
      "cell_type": "code",
      "source": [
        "# Compute change in SAR backscatter (VV band)\n",
        "pre_fire_sar = sentinel1.select('VV')\n",
        "post_fire_sar = sentinel1.select('VV')\n",
        "sar_change = pre_fire_sar.subtract(post_fire_sar).rename('SAR_Change')\n",
        "\n",
        "# Threshold SAR change to detect burned areas\n",
        "burned_sar = sar_change.lt(-2).rename('Burned_Area')\n"
      ],
      "metadata": {
        "id": "RcpfUSONkf8M"
      },
      "execution_count": null,
      "outputs": []
    },
    {
      "cell_type": "markdown",
      "source": [
        "Step 5: Visualizing Burn Severity Maps"
      ],
      "metadata": {
        "id": "DS5Ig1QQi8YY"
      }
    },
    {
      "cell_type": "code",
      "execution_count": null,
      "metadata": {
        "id": "VPedOmauhuct"
      },
      "outputs": [],
      "source": [
        "import folium\n",
        "from geemap import foliumap\n",
        "\n",
        "Map = geemap.Map(center=[38.79, -120.74], zoom=8)\n",
        "Map.addLayer(dNBR, {\"min\": -1, \"max\": 1, \"palette\": ['green', 'yellow', 'red']}, \"Burn Severity (dNBR)\")\n",
        "Map.addLayer(burned_sar, {\"min\": 0, \"max\": 1, \"palette\": ['black', 'red']}, \"SAR Burned Areas\")\n",
        "Map.add_child(folium.LayerControl())\n",
        "Map\n"
      ]
    }
  ]
}